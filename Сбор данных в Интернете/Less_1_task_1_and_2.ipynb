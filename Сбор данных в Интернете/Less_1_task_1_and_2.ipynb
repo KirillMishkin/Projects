{
 "cells": [
  {
   "cell_type": "markdown",
   "metadata": {},
   "source": [
    "# Задание 1"
   ]
  },
  {
   "cell_type": "markdown",
   "metadata": {},
   "source": [
    "1. Посмотреть документацию к API GitHub, разобраться как вывести список репозиториев для конкретного пользователя,\n",
    "сохранить JSON-вывод в файле *.json."
   ]
  },
  {
   "cell_type": "code",
   "execution_count": 214,
   "metadata": {},
   "outputs": [],
   "source": [
    "import requests\n",
    "from pprint import pprint\n",
    "import json"
   ]
  },
  {
   "cell_type": "markdown",
   "metadata": {},
   "source": [
    "Найдем пользователей "
   ]
  },
  {
   "cell_type": "code",
   "execution_count": 215,
   "metadata": {},
   "outputs": [],
   "source": [
    "# Ввести часть имени или полное имя пользователя и у которого больше 6 репозиториев\n",
    "name = 'KirillMishkin'"
   ]
  },
  {
   "cell_type": "code",
   "execution_count": 216,
   "metadata": {},
   "outputs": [],
   "source": [
    "def finde_users():\n",
    "    main_link = f'https://api.github.com/search/users?q={name}+repos:%3E6'\n",
    "    users = requests.get(main_link)\n",
    "    my_user = []\n",
    "    data = users.json()\n",
    "    for i in data['items']:\n",
    "        my_user.append(i['login'])\n",
    "    return my_user"
   ]
  },
  {
   "cell_type": "code",
   "execution_count": 217,
   "metadata": {},
   "outputs": [
    {
     "data": {
      "text/plain": [
       "['KirillMishkin']"
      ]
     },
     "execution_count": 217,
     "metadata": {},
     "output_type": "execute_result"
    }
   ],
   "source": [
    "user_name = finde_users()\n",
    "user_name"
   ]
  },
  {
   "cell_type": "markdown",
   "metadata": {},
   "source": [
    "Напишим функцию для определения пользователя и его репозитория"
   ]
  },
  {
   "cell_type": "code",
   "execution_count": null,
   "metadata": {},
   "outputs": [],
   "source": []
  },
  {
   "cell_type": "code",
   "execution_count": 218,
   "metadata": {},
   "outputs": [],
   "source": [
    "def find_repo(username):\n",
    "    mail_link = f'https://api.github.com/users/{username}/repos'\n",
    "    repo = requests.get(mail_link)\n",
    "    data = repo.json()\n",
    "    user_data = dict()\n",
    "    for i in data:\n",
    "        if username not in user_data:\n",
    "            user_data[username] = []\n",
    "        user_data[username]+=[i['name']]\n",
    "    return user_data"
   ]
  },
  {
   "cell_type": "code",
   "execution_count": 219,
   "metadata": {},
   "outputs": [],
   "source": [
    "my_data = []"
   ]
  },
  {
   "cell_type": "code",
   "execution_count": 220,
   "metadata": {},
   "outputs": [],
   "source": [
    "for i in user_name:\n",
    "    my_data.append(find_repo(i))"
   ]
  },
  {
   "cell_type": "code",
   "execution_count": 229,
   "metadata": {},
   "outputs": [
    {
     "data": {
      "text/plain": [
       "[{'KirillMishkin': ['-',\n",
       "   '-Python',\n",
       "   'algorithm_GB',\n",
       "   'DS',\n",
       "   'GB_algorithm',\n",
       "   'gitrepa',\n",
       "   'Gitreport',\n",
       "   'project_euler',\n",
       "   'Python',\n",
       "   'PythonLessons']}]"
      ]
     },
     "execution_count": 229,
     "metadata": {},
     "output_type": "execute_result"
    }
   ],
   "source": [
    "my_data"
   ]
  },
  {
   "cell_type": "markdown",
   "metadata": {},
   "source": [
    "#### Сохраним в JSON"
   ]
  },
  {
   "cell_type": "code",
   "execution_count": null,
   "metadata": {},
   "outputs": [],
   "source": []
  },
  {
   "cell_type": "code",
   "execution_count": 221,
   "metadata": {},
   "outputs": [],
   "source": [
    "with open('data_repo.json','w') as f:\n",
    "    json.dump(my_data,f)"
   ]
  },
  {
   "cell_type": "markdown",
   "metadata": {},
   "source": [
    "#### Откроем файл"
   ]
  },
  {
   "cell_type": "code",
   "execution_count": 222,
   "metadata": {},
   "outputs": [],
   "source": [
    "with open('data_repo.json','r') as read_file:\n",
    "    data = json.load(read_file)"
   ]
  },
  {
   "cell_type": "code",
   "execution_count": 223,
   "metadata": {},
   "outputs": [
    {
     "data": {
      "text/plain": [
       "[{'KirillMishkin': ['-',\n",
       "   '-Python',\n",
       "   'algorithm_GB',\n",
       "   'DS',\n",
       "   'GB_algorithm',\n",
       "   'gitrepa',\n",
       "   'Gitreport',\n",
       "   'project_euler',\n",
       "   'Python',\n",
       "   'PythonLessons']}]"
      ]
     },
     "execution_count": 223,
     "metadata": {},
     "output_type": "execute_result"
    }
   ],
   "source": [
    "data"
   ]
  },
  {
   "cell_type": "markdown",
   "metadata": {},
   "source": [
    "# Задание 2"
   ]
  },
  {
   "cell_type": "markdown",
   "metadata": {},
   "source": [
    "Изучить список открытых API (https://www.programmableweb.com/category/all/apis). Найти среди них любое, требующее авторизацию (любого типа). Выполнить запросы к нему, пройдя авторизацию. Ответ сервера записать в файл."
   ]
  },
  {
   "cell_type": "code",
   "execution_count": 224,
   "metadata": {},
   "outputs": [],
   "source": [
    "main_link = 'https://api.github.com/user/repos'\n",
    "user_name = 'KirillMishkin'\n",
    "password = '54354257c7f2dae7d8fea0e15561ea2fa239d25a'"
   ]
  },
  {
   "cell_type": "code",
   "execution_count": 225,
   "metadata": {},
   "outputs": [],
   "source": [
    "response = requests.get(main_link, auth = (user_name, password))"
   ]
  },
  {
   "cell_type": "code",
   "execution_count": 226,
   "metadata": {},
   "outputs": [
    {
     "name": "stdout",
     "output_type": "stream",
     "text": [
      "Ответ сервера <Response [200]>\n"
     ]
    }
   ],
   "source": [
    "print('Ответ сервера',response)"
   ]
  },
  {
   "cell_type": "code",
   "execution_count": 227,
   "metadata": {},
   "outputs": [],
   "source": [
    "with open('answer_from_server.txt','w') as f:\n",
    "    f.write(f'{response.status_code}')"
   ]
  },
  {
   "cell_type": "code",
   "execution_count": 228,
   "metadata": {},
   "outputs": [
    {
     "name": "stdout",
     "output_type": "stream",
     "text": [
      "Публичный  репозиторий: -\n",
      "Публичный  репозиторий: -Python\n",
      "Публичный  репозиторий: algorithm_GB\n",
      "\n",
      "Приватный репозиторий: API\n",
      "\n",
      "Публичный  репозиторий: DS\n",
      "Публичный  репозиторий: GB_algorithm\n",
      "Публичный  репозиторий: gitrepa\n",
      "Публичный  репозиторий: Gitreport\n",
      "Публичный  репозиторий: project_euler\n",
      "Публичный  репозиторий: Python\n",
      "Публичный  репозиторий: PythonLessons\n"
     ]
    }
   ],
   "source": [
    "for repo in response.json():\n",
    "    if repo['private']:\n",
    "        print(f'\\nПриватный репозиторий: {repo[\"name\"]}\\n')\n",
    "    else:\n",
    "        print(f'Публичный  репозиторий: {repo[\"name\"]}')"
   ]
  },
  {
   "cell_type": "code",
   "execution_count": null,
   "metadata": {},
   "outputs": [],
   "source": []
  }
 ],
 "metadata": {
  "kernelspec": {
   "display_name": "Python 3",
   "language": "python",
   "name": "python3"
  },
  "language_info": {
   "codemirror_mode": {
    "name": "ipython",
    "version": 3
   },
   "file_extension": ".py",
   "mimetype": "text/x-python",
   "name": "python",
   "nbconvert_exporter": "python",
   "pygments_lexer": "ipython3",
   "version": "3.7.6"
  }
 },
 "nbformat": 4,
 "nbformat_minor": 4
}
