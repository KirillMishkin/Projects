{
 "cells": [
  {
   "cell_type": "markdown",
   "metadata": {},
   "source": [
    "# Task 2 "
   ]
  },
  {
   "cell_type": "markdown",
   "metadata": {},
   "source": [
    "магазин Мвидео"
   ]
  },
  {
   "cell_type": "code",
   "execution_count": null,
   "metadata": {},
   "outputs": [],
   "source": []
  },
  {
   "cell_type": "code",
   "execution_count": 421,
   "metadata": {},
   "outputs": [],
   "source": [
    "from selenium import webdriver\n",
    "from time import sleep\n",
    "from selenium.webdriver.chrome.options import Options\n",
    "from selenium.webdriver.support.ui import WebDriverWait\n",
    "from selenium.webdriver.support import expected_conditions as EC\n",
    "from selenium.webdriver.common.by import By"
   ]
  },
  {
   "cell_type": "code",
   "execution_count": 422,
   "metadata": {},
   "outputs": [],
   "source": [
    "from selenium.webdriver.common.keys import Keys\n",
    "from selenium.webdriver.common.action_chains import ActionChains\n",
    "from pymongo import MongoClient\n",
    "from datetime import datetime\n",
    "from pprint import pprint\n",
    "import itertools"
   ]
  },
  {
   "cell_type": "markdown",
   "metadata": {},
   "source": [
    "# MongoDB"
   ]
  },
  {
   "cell_type": "code",
   "execution_count": 423,
   "metadata": {},
   "outputs": [],
   "source": [
    "client = MongoClient('localhost',27017)"
   ]
  },
  {
   "cell_type": "code",
   "execution_count": 424,
   "metadata": {},
   "outputs": [],
   "source": [
    "db = client['reStore']"
   ]
  },
  {
   "cell_type": "code",
   "execution_count": 425,
   "metadata": {},
   "outputs": [],
   "source": [
    "accessory = db.acc"
   ]
  },
  {
   "cell_type": "markdown",
   "metadata": {},
   "source": [
    "# Selenium Driver"
   ]
  },
  {
   "cell_type": "code",
   "execution_count": 426,
   "metadata": {},
   "outputs": [],
   "source": [
    "ChromeOptions = Options()"
   ]
  },
  {
   "cell_type": "code",
   "execution_count": 427,
   "metadata": {},
   "outputs": [],
   "source": [
    "ChromeOptions.add_argument('start-maximized')"
   ]
  },
  {
   "cell_type": "code",
   "execution_count": 428,
   "metadata": {},
   "outputs": [],
   "source": [
    "driver = webdriver.Chrome('./chromedriver.exe', options =ChromeOptions)"
   ]
  },
  {
   "cell_type": "code",
   "execution_count": 429,
   "metadata": {},
   "outputs": [],
   "source": [
    "driver.get('https://www.mvideo.ru/')\n",
    "sleep(3)"
   ]
  },
  {
   "cell_type": "code",
   "execution_count": 442,
   "metadata": {},
   "outputs": [],
   "source": [
    "# Сохраняем стоимость твоара в список \n",
    "all_price = []"
   ]
  },
  {
   "cell_type": "code",
   "execution_count": 431,
   "metadata": {},
   "outputs": [],
   "source": [
    "while True:\n",
    "    try: \n",
    "        price = driver.find_elements_by_xpath('//div[@class = \"gallery-layout\"][2]//li[@class = \"gallery-list-item height-ready\"]//div[@class  =\"c-pdp-price__current\"]')\n",
    "        \n",
    "        for x in price:\n",
    "            price_1 = x.text\n",
    "            if price_1 == '' or price_1 in all_price:\n",
    "                continue\n",
    "            price_1 = price_1.replace('¤',' руб.')\n",
    "            price_1 = price_1.replace(chr(160),' ')\n",
    "            all_price.append(price_1)\n",
    "        \n",
    "        button =driver.find_element_by_xpath('//div[@data-init = \"ajax-category-carousel\"][2]//a[@class = \"next-btn sel-hits-button-next\"]')\n",
    "        button.click()\n",
    "        sleep(2)\n",
    "        \n",
    "    except:\n",
    "        click_but = driver.find_element_by_xpath('//div[@class = \"gallery-layout\"][2]//div[@class = \"carousel-paging\"]//a')\n",
    "        click_but.click()\n",
    "        break"
   ]
  },
  {
   "cell_type": "code",
   "execution_count": 433,
   "metadata": {},
   "outputs": [],
   "source": [
    "name = driver.find_elements_by_xpath('//div[@class = \"gallery-layout\"][2]//li[@class = \"gallery-list-item height-ready\"]//h4')"
   ]
  },
  {
   "cell_type": "code",
   "execution_count": 434,
   "metadata": {},
   "outputs": [],
   "source": [
    "link = driver.find_elements_by_xpath('//div[@class = \"gallery-layout\"][2]//li[@class = \"gallery-list-item height-ready\"]//a[@class = \"sel-product-tile-title\"]')"
   ]
  },
  {
   "cell_type": "code",
   "execution_count": 438,
   "metadata": {},
   "outputs": [
    {
     "name": "stdout",
     "output_type": "stream",
     "text": [
      "Сплит-система Haier HSU-09HTM03/R2\n",
      "https://www.mvideo.ru/products/split-sistema-haier-hsu-09htm03-r2-20041878\n",
      "'15 990 руб.'\n",
      "\n",
      "****************************************************************************************************\n",
      "\n",
      "Аксессуар для кондиционера Vobix 451 White\n",
      "https://www.mvideo.ru/products/aksessuar-dlya-kondicionera-vobix-451-white-50117777\n",
      "'750 руб.'\n",
      "\n",
      "****************************************************************************************************\n",
      "\n",
      "Наушники Apple AirPods w/Charging Case (MV7N2RU/A)\n",
      "https://www.mvideo.ru/products/naushniki-apple-airpods-w-charging-case-mv7n2ru-a-50126638\n",
      "'10 990 руб.'\n",
      "\n",
      "****************************************************************************************************\n",
      "\n",
      "Смартфон Samsung Galaxy A01 Black (SM-A015F/DS)\n",
      "https://www.mvideo.ru/products/smartfon-samsung-galaxy-a01-black-sm-a015f-ds-30048061\n",
      "'5 990 руб.'\n",
      "\n",
      "****************************************************************************************************\n",
      "\n",
      "Смартфон Samsung Galaxy A51 64GB Black (SM-A515F)\n",
      "https://www.mvideo.ru/products/smartfon-samsung-galaxy-a51-64gb-black-sm-a515f-30047894\n",
      "'19 990 руб.'\n",
      "\n",
      "****************************************************************************************************\n",
      "\n",
      "Вентилятор напольный Midea MVFS4002\n",
      "https://www.mvideo.ru/products/ventilyator-napolnyi-midea-mvfs4002-20067381\n",
      "'990 руб.'\n",
      "\n",
      "****************************************************************************************************\n",
      "\n",
      "Электрочайник Moulinex BY730132\n",
      "https://www.mvideo.ru/products/elektrochainik-moulinex-by730132-20062760\n",
      "'1 990 руб.'\n",
      "\n",
      "****************************************************************************************************\n",
      "\n",
      "Микроволновая печь соло Gorenje MO17E1W\n",
      "https://www.mvideo.ru/products/mikrovolnovaya-pech-solo-gorenje-mo17e1w-20062339\n",
      "'2 990 руб.'\n",
      "\n",
      "****************************************************************************************************\n",
      "\n",
      "Смартфон Redmi Note 8T 64GB Starscape Blue\n",
      "https://www.mvideo.ru/products/smartfon-redmi-note-8t-64gb-starscape-blue-30046728\n",
      "'13 990 руб.'\n",
      "\n",
      "****************************************************************************************************\n",
      "\n",
      "Смартфон Samsung Galaxy A01 Blue (SM-A015F/DS)\n",
      "https://www.mvideo.ru/products/smartfon-samsung-galaxy-a01-blue-sm-a015f-ds-30048060\n",
      "'5 990 руб.'\n",
      "\n",
      "****************************************************************************************************\n",
      "\n",
      "Погружной блендер Tefal Optitouch HB833132\n",
      "https://www.mvideo.ru/products/pogruzhnoi-blender-tefal-optitouch-hb833132-20062528\n",
      "'2 490 руб.'\n",
      "\n",
      "****************************************************************************************************\n",
      "\n",
      "Наушники Apple AirPods Pro with Wireless Case (MWP22RU/A)\n",
      "https://www.mvideo.ru/products/naushniki-apple-airpods-pro-with-wireless-case-mwp22ru-a-50131384\n",
      "'17 990 руб.'\n",
      "\n",
      "****************************************************************************************************\n",
      "\n",
      "Смартфон Samsung Galaxy A51 64GB White (SM-A515F)\n",
      "https://www.mvideo.ru/products/smartfon-samsung-galaxy-a51-64gb-white-sm-a515f-30047892\n",
      "'17 990 руб.'\n",
      "\n",
      "****************************************************************************************************\n",
      "\n",
      "Ноутбук Lenovo IdeaPad S145-15IGM (81MX0067RU)\n",
      "https://www.mvideo.ru/products/noutbuk-lenovo-ideapad-s145-15igm-81mx0067ru-30047889\n",
      "'19 990 руб.'\n",
      "\n",
      "****************************************************************************************************\n",
      "\n",
      "Игровая консоль PlayStation 4 1TB DG/GOW/TLOU/PS Plus 3мес.\n",
      "https://www.mvideo.ru/products/igrovaya-konsol-playstation-4-1tb-dg-gow-tlou-ps-plus-3mes-40072995\n",
      "'23 990 руб.'\n",
      "\n",
      "****************************************************************************************************\n",
      "\n"
     ]
    }
   ],
   "source": [
    "for i, j,z in itertools.zip_longest(name,link,all_price):\n",
    "    if (i is not None):\n",
    "        print(i.get_attribute('title'))\n",
    "        print(j.get_attribute('href'))\n",
    "        pprint(z)\n",
    "        print('\\n' + '*' * 100 + '\\n')\n",
    "        \n",
    "        try:\n",
    "            accessory.insert_one({'_id':i.get_attribute('title'),\n",
    "                        'price': z,\n",
    "                        'link':j.get_attribute('href')})\n",
    "        except:\n",
    "            continue"
   ]
  },
  {
   "cell_type": "code",
   "execution_count": 441,
   "metadata": {},
   "outputs": [
    {
     "name": "stdout",
     "output_type": "stream",
     "text": [
      "{'_id': 'Сплит-система Haier HSU-09HTM03/R2',\n",
      " 'link': 'https://www.mvideo.ru/products/split-sistema-haier-hsu-09htm03-r2-20041878',\n",
      " 'price': '15 990 руб.'}\n",
      "{'_id': 'Аксессуар для кондиционера Vobix 451 White',\n",
      " 'link': 'https://www.mvideo.ru/products/aksessuar-dlya-kondicionera-vobix-451-white-50117777',\n",
      " 'price': '750 руб.'}\n",
      "{'_id': 'Наушники Apple AirPods w/Charging Case (MV7N2RU/A)',\n",
      " 'link': 'https://www.mvideo.ru/products/naushniki-apple-airpods-w-charging-case-mv7n2ru-a-50126638',\n",
      " 'price': '10 990 руб.'}\n",
      "{'_id': 'Смартфон Samsung Galaxy A01 Black (SM-A015F/DS)',\n",
      " 'link': 'https://www.mvideo.ru/products/smartfon-samsung-galaxy-a01-black-sm-a015f-ds-30048061',\n",
      " 'price': '5 990 руб.'}\n",
      "{'_id': 'Смартфон Samsung Galaxy A51 64GB Black (SM-A515F)',\n",
      " 'link': 'https://www.mvideo.ru/products/smartfon-samsung-galaxy-a51-64gb-black-sm-a515f-30047894',\n",
      " 'price': '19 990 руб.'}\n",
      "{'_id': 'Вентилятор напольный Midea MVFS4002',\n",
      " 'link': 'https://www.mvideo.ru/products/ventilyator-napolnyi-midea-mvfs4002-20067381',\n",
      " 'price': '990 руб.'}\n",
      "{'_id': 'Электрочайник Moulinex BY730132',\n",
      " 'link': 'https://www.mvideo.ru/products/elektrochainik-moulinex-by730132-20062760',\n",
      " 'price': '1 990 руб.'}\n",
      "{'_id': 'Микроволновая печь соло Gorenje MO17E1W',\n",
      " 'link': 'https://www.mvideo.ru/products/mikrovolnovaya-pech-solo-gorenje-mo17e1w-20062339',\n",
      " 'price': '2 990 руб.'}\n",
      "{'_id': 'Смартфон Redmi Note 8T 64GB Starscape Blue',\n",
      " 'link': 'https://www.mvideo.ru/products/smartfon-redmi-note-8t-64gb-starscape-blue-30046728',\n",
      " 'price': '13 990 руб.'}\n",
      "{'_id': 'Смартфон Samsung Galaxy A01 Blue (SM-A015F/DS)',\n",
      " 'link': 'https://www.mvideo.ru/products/smartfon-samsung-galaxy-a01-blue-sm-a015f-ds-30048060',\n",
      " 'price': '5 990 руб.'}\n",
      "{'_id': 'Погружной блендер Tefal Optitouch HB833132',\n",
      " 'link': 'https://www.mvideo.ru/products/pogruzhnoi-blender-tefal-optitouch-hb833132-20062528',\n",
      " 'price': '2 490 руб.'}\n",
      "{'_id': 'Наушники Apple AirPods Pro with Wireless Case (MWP22RU/A)',\n",
      " 'link': 'https://www.mvideo.ru/products/naushniki-apple-airpods-pro-with-wireless-case-mwp22ru-a-50131384',\n",
      " 'price': '17 990 руб.'}\n",
      "{'_id': 'Смартфон Samsung Galaxy A51 64GB White (SM-A515F)',\n",
      " 'link': 'https://www.mvideo.ru/products/smartfon-samsung-galaxy-a51-64gb-white-sm-a515f-30047892',\n",
      " 'price': '17 990 руб.'}\n",
      "{'_id': 'Ноутбук Lenovo IdeaPad S145-15IGM (81MX0067RU)',\n",
      " 'link': 'https://www.mvideo.ru/products/noutbuk-lenovo-ideapad-s145-15igm-81mx0067ru-30047889',\n",
      " 'price': '19 990 руб.'}\n",
      "{'_id': 'Игровая консоль PlayStation 4 1TB DG/GOW/TLOU/PS Plus 3мес.',\n",
      " 'link': 'https://www.mvideo.ru/products/igrovaya-konsol-playstation-4-1tb-dg-gow-tlou-ps-plus-3mes-40072995',\n",
      " 'price': '23 990 руб.'}\n"
     ]
    }
   ],
   "source": [
    "for i in accessory.find({}):\n",
    "    pprint(i)"
   ]
  }
 ],
 "metadata": {
  "kernelspec": {
   "display_name": "Python 3",
   "language": "python",
   "name": "python3"
  },
  "language_info": {
   "codemirror_mode": {
    "name": "ipython",
    "version": 3
   },
   "file_extension": ".py",
   "mimetype": "text/x-python",
   "name": "python",
   "nbconvert_exporter": "python",
   "pygments_lexer": "ipython3",
   "version": "3.7.6"
  }
 },
 "nbformat": 4,
 "nbformat_minor": 4
}
